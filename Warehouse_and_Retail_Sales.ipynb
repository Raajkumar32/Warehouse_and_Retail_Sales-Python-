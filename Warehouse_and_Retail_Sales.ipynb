{
 "cells": [
  {
   "cell_type": "code",
   "execution_count": 3,
   "id": "42f1cc81-c326-46ac-8d3d-705019d99b29",
   "metadata": {},
   "outputs": [],
   "source": [
    "# import Python library\n",
    "\n",
    "import pandas as pd\n",
    "import numpy as np\n",
    "import matplotlib.pyplot as plt\n",
    "%matplotlib inline \n",
    "import seaborn as sns"
   ]
  },
  {
   "cell_type": "code",
   "execution_count": 9,
   "id": "881ecb37-a356-476f-ab9a-b8e5dfd8d1bd",
   "metadata": {},
   "outputs": [
    {
     "name": "stderr",
     "output_type": "stream",
     "text": [
      "C:\\Users\\rajku\\AppData\\Local\\Temp\\ipykernel_7112\\3375019729.py:2: DtypeWarning: Columns (11) have mixed types. Specify dtype option on import or set low_memory=False.\n",
      "  df = pd.read_csv(r'C:\\Users\\rajku\\OneDrive\\Documents\\Warehouse_and_Retail_Sales.csv')\n"
     ]
    }
   ],
   "source": [
    "# Load the Excel file\n",
    "df = pd.read_csv(r'C:\\Users\\rajku\\OneDrive\\Documents\\Warehouse_and_Retail_Sales.csv')  "
   ]
  },
  {
   "cell_type": "code",
   "execution_count": 11,
   "id": "5e57a64a-a668-4d95-aa43-de9255c4c672",
   "metadata": {},
   "outputs": [
    {
     "data": {
      "text/html": [
       "<div>\n",
       "<style scoped>\n",
       "    .dataframe tbody tr th:only-of-type {\n",
       "        vertical-align: middle;\n",
       "    }\n",
       "\n",
       "    .dataframe tbody tr th {\n",
       "        vertical-align: top;\n",
       "    }\n",
       "\n",
       "    .dataframe thead th {\n",
       "        text-align: right;\n",
       "    }\n",
       "</style>\n",
       "<table border=\"1\" class=\"dataframe\">\n",
       "  <thead>\n",
       "    <tr style=\"text-align: right;\">\n",
       "      <th></th>\n",
       "      <th>YEAR</th>\n",
       "      <th>MONTH</th>\n",
       "      <th>SUPPLIER</th>\n",
       "      <th>ITEM CODE</th>\n",
       "      <th>ITEM DESCRIPTION</th>\n",
       "      <th>ITEM TYPE</th>\n",
       "      <th>RETAIL SALES</th>\n",
       "      <th>RETAIL TRANSFERS</th>\n",
       "      <th>WAREHOUSE SALES</th>\n",
       "      <th>Unnamed: 9</th>\n",
       "      <th>Unnamed: 10</th>\n",
       "      <th>Unnamed: 11</th>\n",
       "    </tr>\n",
       "  </thead>\n",
       "  <tbody>\n",
       "    <tr>\n",
       "      <th>0</th>\n",
       "      <td>2020</td>\n",
       "      <td>1</td>\n",
       "      <td>REPUBLIC NATIONAL DISTRIBUTING CO</td>\n",
       "      <td>100009</td>\n",
       "      <td>BOOTLEG RED - 750ML</td>\n",
       "      <td>WINE</td>\n",
       "      <td>0.00</td>\n",
       "      <td>0.0</td>\n",
       "      <td>2.0</td>\n",
       "      <td>NaN</td>\n",
       "      <td>NaN</td>\n",
       "      <td>NaN</td>\n",
       "    </tr>\n",
       "    <tr>\n",
       "      <th>1</th>\n",
       "      <td>2020</td>\n",
       "      <td>1</td>\n",
       "      <td>PWSWN INC</td>\n",
       "      <td>100024</td>\n",
       "      <td>MOMENT DE PLAISIR - 750ML</td>\n",
       "      <td>WINE</td>\n",
       "      <td>0.00</td>\n",
       "      <td>1.0</td>\n",
       "      <td>4.0</td>\n",
       "      <td>NaN</td>\n",
       "      <td>NaN</td>\n",
       "      <td>NaN</td>\n",
       "    </tr>\n",
       "    <tr>\n",
       "      <th>2</th>\n",
       "      <td>2020</td>\n",
       "      <td>1</td>\n",
       "      <td>RELIABLE CHURCHILL LLLP</td>\n",
       "      <td>1001</td>\n",
       "      <td>S SMITH ORGANIC PEAR CIDER - 18.7OZ</td>\n",
       "      <td>BEER</td>\n",
       "      <td>0.00</td>\n",
       "      <td>0.0</td>\n",
       "      <td>1.0</td>\n",
       "      <td>NaN</td>\n",
       "      <td>NaN</td>\n",
       "      <td>NaN</td>\n",
       "    </tr>\n",
       "    <tr>\n",
       "      <th>3</th>\n",
       "      <td>2020</td>\n",
       "      <td>1</td>\n",
       "      <td>LANTERNA DISTRIBUTORS INC</td>\n",
       "      <td>100145</td>\n",
       "      <td>SCHLINK HAUS KABINETT - 750ML</td>\n",
       "      <td>WINE</td>\n",
       "      <td>0.00</td>\n",
       "      <td>0.0</td>\n",
       "      <td>1.0</td>\n",
       "      <td>NaN</td>\n",
       "      <td>NaN</td>\n",
       "      <td>NaN</td>\n",
       "    </tr>\n",
       "    <tr>\n",
       "      <th>4</th>\n",
       "      <td>2020</td>\n",
       "      <td>1</td>\n",
       "      <td>DIONYSOS IMPORTS INC</td>\n",
       "      <td>100293</td>\n",
       "      <td>SANTORINI GAVALA WHITE - 750ML</td>\n",
       "      <td>WINE</td>\n",
       "      <td>0.82</td>\n",
       "      <td>0.0</td>\n",
       "      <td>0.0</td>\n",
       "      <td>NaN</td>\n",
       "      <td>NaN</td>\n",
       "      <td>NaN</td>\n",
       "    </tr>\n",
       "  </tbody>\n",
       "</table>\n",
       "</div>"
      ],
      "text/plain": [
       "   YEAR  MONTH                           SUPPLIER ITEM CODE  \\\n",
       "0  2020      1  REPUBLIC NATIONAL DISTRIBUTING CO    100009   \n",
       "1  2020      1                          PWSWN INC    100024   \n",
       "2  2020      1            RELIABLE CHURCHILL LLLP      1001   \n",
       "3  2020      1          LANTERNA DISTRIBUTORS INC    100145   \n",
       "4  2020      1               DIONYSOS IMPORTS INC    100293   \n",
       "\n",
       "                      ITEM DESCRIPTION ITEM TYPE  RETAIL SALES  \\\n",
       "0                  BOOTLEG RED - 750ML      WINE          0.00   \n",
       "1            MOMENT DE PLAISIR - 750ML      WINE          0.00   \n",
       "2  S SMITH ORGANIC PEAR CIDER - 18.7OZ      BEER          0.00   \n",
       "3        SCHLINK HAUS KABINETT - 750ML      WINE          0.00   \n",
       "4       SANTORINI GAVALA WHITE - 750ML      WINE          0.82   \n",
       "\n",
       "   RETAIL TRANSFERS  WAREHOUSE SALES  Unnamed: 9  Unnamed: 10 Unnamed: 11  \n",
       "0               0.0              2.0         NaN          NaN         NaN  \n",
       "1               1.0              4.0         NaN          NaN         NaN  \n",
       "2               0.0              1.0         NaN          NaN         NaN  \n",
       "3               0.0              1.0         NaN          NaN         NaN  \n",
       "4               0.0              0.0         NaN          NaN         NaN  "
      ]
     },
     "execution_count": 11,
     "metadata": {},
     "output_type": "execute_result"
    }
   ],
   "source": [
    "df.head()"
   ]
  },
  {
   "cell_type": "code",
   "execution_count": 13,
   "id": "c8b78109-8abe-42db-a264-f5cda2c03aa8",
   "metadata": {},
   "outputs": [
    {
     "data": {
      "text/plain": [
       "(307645, 12)"
      ]
     },
     "execution_count": 13,
     "metadata": {},
     "output_type": "execute_result"
    }
   ],
   "source": [
    "df.shape"
   ]
  },
  {
   "cell_type": "code",
   "execution_count": 14,
   "id": "b91f60a8-b52d-424d-a1b6-5266f1e3a896",
   "metadata": {},
   "outputs": [
    {
     "name": "stdout",
     "output_type": "stream",
     "text": [
      "<class 'pandas.core.frame.DataFrame'>\n",
      "RangeIndex: 307645 entries, 0 to 307644\n",
      "Data columns (total 12 columns):\n",
      " #   Column            Non-Null Count   Dtype  \n",
      "---  ------            --------------   -----  \n",
      " 0   YEAR              307645 non-null  int64  \n",
      " 1   MONTH             307645 non-null  int64  \n",
      " 2   SUPPLIER          307478 non-null  object \n",
      " 3   ITEM CODE         307645 non-null  object \n",
      " 4   ITEM DESCRIPTION  307645 non-null  object \n",
      " 5   ITEM TYPE         307644 non-null  object \n",
      " 6   RETAIL SALES      307642 non-null  float64\n",
      " 7   RETAIL TRANSFERS  307645 non-null  float64\n",
      " 8   WAREHOUSE SALES   307645 non-null  float64\n",
      " 9   Unnamed: 9        0 non-null       float64\n",
      " 10  Unnamed: 10       0 non-null       float64\n",
      " 11  Unnamed: 11       1 non-null       object \n",
      "dtypes: float64(5), int64(2), object(5)\n",
      "memory usage: 28.2+ MB\n"
     ]
    }
   ],
   "source": [
    "df.info()"
   ]
  },
  {
   "cell_type": "code",
   "execution_count": 15,
   "id": "3338ead3-1377-4f27-b722-bdfddd6543d0",
   "metadata": {},
   "outputs": [],
   "source": [
    "#drop unrelated/blank columns\n",
    "df.drop(['Unnamed: 9', 'Unnamed: 10', 'Unnamed: 11'], axis=1, inplace=True)"
   ]
  },
  {
   "cell_type": "code",
   "execution_count": 16,
   "id": "9c78b271-5148-4ac8-b96f-e7a7c702c1c9",
   "metadata": {},
   "outputs": [
    {
     "data": {
      "text/plain": [
       "YEAR                  0\n",
       "MONTH                 0\n",
       "SUPPLIER            167\n",
       "ITEM CODE             0\n",
       "ITEM DESCRIPTION      0\n",
       "ITEM TYPE             1\n",
       "RETAIL SALES          3\n",
       "RETAIL TRANSFERS      0\n",
       "WAREHOUSE SALES       0\n",
       "dtype: int64"
      ]
     },
     "execution_count": 16,
     "metadata": {},
     "output_type": "execute_result"
    }
   ],
   "source": [
    "#check for null values\n",
    "pd.isnull(df).sum()"
   ]
  },
  {
   "cell_type": "code",
   "execution_count": 17,
   "id": "7053b561-dd4d-4510-bb15-9fcc64aae430",
   "metadata": {},
   "outputs": [],
   "source": [
    "# drop null values\n",
    "df.dropna(inplace=True)"
   ]
  },
  {
   "cell_type": "code",
   "execution_count": 20,
   "id": "2c4f43d4-f4f9-451a-83fb-7dffe9b488e3",
   "metadata": {},
   "outputs": [
    {
     "data": {
      "text/html": [
       "<div>\n",
       "<style scoped>\n",
       "    .dataframe tbody tr th:only-of-type {\n",
       "        vertical-align: middle;\n",
       "    }\n",
       "\n",
       "    .dataframe tbody tr th {\n",
       "        vertical-align: top;\n",
       "    }\n",
       "\n",
       "    .dataframe thead th {\n",
       "        text-align: right;\n",
       "    }\n",
       "</style>\n",
       "<table border=\"1\" class=\"dataframe\">\n",
       "  <thead>\n",
       "    <tr style=\"text-align: right;\">\n",
       "      <th></th>\n",
       "      <th>YEAR</th>\n",
       "      <th>MONTH</th>\n",
       "      <th>RETAIL SALES</th>\n",
       "      <th>RETAIL TRANSFERS</th>\n",
       "      <th>WAREHOUSE SALES</th>\n",
       "    </tr>\n",
       "  </thead>\n",
       "  <tbody>\n",
       "    <tr>\n",
       "      <th>count</th>\n",
       "      <td>307477.000000</td>\n",
       "      <td>307477.000000</td>\n",
       "      <td>307477.000000</td>\n",
       "      <td>307477.000000</td>\n",
       "      <td>307477.000000</td>\n",
       "    </tr>\n",
       "    <tr>\n",
       "      <th>mean</th>\n",
       "      <td>2018.438238</td>\n",
       "      <td>6.424064</td>\n",
       "      <td>7.003644</td>\n",
       "      <td>6.938177</td>\n",
       "      <td>25.375561</td>\n",
       "    </tr>\n",
       "    <tr>\n",
       "      <th>std</th>\n",
       "      <td>1.083080</td>\n",
       "      <td>3.461853</td>\n",
       "      <td>30.387012</td>\n",
       "      <td>30.244239</td>\n",
       "      <td>249.500572</td>\n",
       "    </tr>\n",
       "    <tr>\n",
       "      <th>min</th>\n",
       "      <td>2017.000000</td>\n",
       "      <td>1.000000</td>\n",
       "      <td>-6.490000</td>\n",
       "      <td>-38.490000</td>\n",
       "      <td>-4996.000000</td>\n",
       "    </tr>\n",
       "    <tr>\n",
       "      <th>25%</th>\n",
       "      <td>2017.000000</td>\n",
       "      <td>3.000000</td>\n",
       "      <td>0.000000</td>\n",
       "      <td>0.000000</td>\n",
       "      <td>0.000000</td>\n",
       "    </tr>\n",
       "    <tr>\n",
       "      <th>50%</th>\n",
       "      <td>2019.000000</td>\n",
       "      <td>7.000000</td>\n",
       "      <td>0.320000</td>\n",
       "      <td>0.000000</td>\n",
       "      <td>1.000000</td>\n",
       "    </tr>\n",
       "    <tr>\n",
       "      <th>75%</th>\n",
       "      <td>2019.000000</td>\n",
       "      <td>9.000000</td>\n",
       "      <td>3.260000</td>\n",
       "      <td>3.000000</td>\n",
       "      <td>5.000000</td>\n",
       "    </tr>\n",
       "    <tr>\n",
       "      <th>max</th>\n",
       "      <td>2020.000000</td>\n",
       "      <td>12.000000</td>\n",
       "      <td>1816.490000</td>\n",
       "      <td>1990.830000</td>\n",
       "      <td>18317.000000</td>\n",
       "    </tr>\n",
       "  </tbody>\n",
       "</table>\n",
       "</div>"
      ],
      "text/plain": [
       "                YEAR          MONTH   RETAIL SALES  RETAIL TRANSFERS  \\\n",
       "count  307477.000000  307477.000000  307477.000000     307477.000000   \n",
       "mean     2018.438238       6.424064       7.003644          6.938177   \n",
       "std         1.083080       3.461853      30.387012         30.244239   \n",
       "min      2017.000000       1.000000      -6.490000        -38.490000   \n",
       "25%      2017.000000       3.000000       0.000000          0.000000   \n",
       "50%      2019.000000       7.000000       0.320000          0.000000   \n",
       "75%      2019.000000       9.000000       3.260000          3.000000   \n",
       "max      2020.000000      12.000000    1816.490000       1990.830000   \n",
       "\n",
       "       WAREHOUSE SALES  \n",
       "count    307477.000000  \n",
       "mean         25.375561  \n",
       "std         249.500572  \n",
       "min       -4996.000000  \n",
       "25%           0.000000  \n",
       "50%           1.000000  \n",
       "75%           5.000000  \n",
       "max       18317.000000  "
      ]
     },
     "execution_count": 20,
     "metadata": {},
     "output_type": "execute_result"
    }
   ],
   "source": [
    "# describe() method returns description of the data in the DataFrame (i.e. count, mean, std, etc)\n",
    "df.describe()"
   ]
  },
  {
   "cell_type": "code",
   "execution_count": null,
   "id": "a03f83f8-d6f0-4310-b0f8-385d0da2824f",
   "metadata": {},
   "outputs": [
    {
     "data": {
      "text/html": [
       "<div>\n",
       "<style scoped>\n",
       "    .dataframe tbody tr th:only-of-type {\n",
       "        vertical-align: middle;\n",
       "    }\n",
       "\n",
       "    .dataframe tbody tr th {\n",
       "        vertical-align: top;\n",
       "    }\n",
       "\n",
       "    .dataframe thead th {\n",
       "        text-align: right;\n",
       "    }\n",
       "</style>\n",
       "<table border=\"1\" class=\"dataframe\">\n",
       "  <thead>\n",
       "    <tr style=\"text-align: right;\">\n",
       "      <th></th>\n",
       "      <th>RETAIL SALES</th>\n",
       "      <th>RETAIL TRANSFERS</th>\n",
       "      <th>WAREHOUSE SALES</th>\n",
       "    </tr>\n",
       "  </thead>\n",
       "  <tbody>\n",
       "    <tr>\n",
       "      <th>count</th>\n",
       "      <td>307477.000000</td>\n",
       "      <td>307477.000000</td>\n",
       "      <td>307477.000000</td>\n",
       "    </tr>\n",
       "    <tr>\n",
       "      <th>mean</th>\n",
       "      <td>7.003644</td>\n",
       "      <td>6.938177</td>\n",
       "      <td>25.375561</td>\n",
       "    </tr>\n",
       "    <tr>\n",
       "      <th>std</th>\n",
       "      <td>30.387012</td>\n",
       "      <td>30.244239</td>\n",
       "      <td>249.500572</td>\n",
       "    </tr>\n",
       "    <tr>\n",
       "      <th>min</th>\n",
       "      <td>-6.490000</td>\n",
       "      <td>-38.490000</td>\n",
       "      <td>-4996.000000</td>\n",
       "    </tr>\n",
       "    <tr>\n",
       "      <th>25%</th>\n",
       "      <td>0.000000</td>\n",
       "      <td>0.000000</td>\n",
       "      <td>0.000000</td>\n",
       "    </tr>\n",
       "    <tr>\n",
       "      <th>50%</th>\n",
       "      <td>0.320000</td>\n",
       "      <td>0.000000</td>\n",
       "      <td>1.000000</td>\n",
       "    </tr>\n",
       "    <tr>\n",
       "      <th>75%</th>\n",
       "      <td>3.260000</td>\n",
       "      <td>3.000000</td>\n",
       "      <td>5.000000</td>\n",
       "    </tr>\n",
       "    <tr>\n",
       "      <th>max</th>\n",
       "      <td>1816.490000</td>\n",
       "      <td>1990.830000</td>\n",
       "      <td>18317.000000</td>\n",
       "    </tr>\n",
       "  </tbody>\n",
       "</table>\n",
       "</div>"
      ],
      "text/plain": [
       "        RETAIL SALES  RETAIL TRANSFERS  WAREHOUSE SALES\n",
       "count  307477.000000     307477.000000    307477.000000\n",
       "mean        7.003644          6.938177        25.375561\n",
       "std        30.387012         30.244239       249.500572\n",
       "min        -6.490000        -38.490000     -4996.000000\n",
       "25%         0.000000          0.000000         0.000000\n",
       "50%         0.320000          0.000000         1.000000\n",
       "75%         3.260000          3.000000         5.000000\n",
       "max      1816.490000       1990.830000     18317.000000"
      ]
     },
     "execution_count": 21,
     "metadata": {},
     "output_type": "execute_result"
    }
   ],
   "source": [
    "# use describe() for specific columns\n",
    "df[['RETAIL SALES', 'RETAIL TRANSFERS', 'WAREHOUSE SALES']].describe()"
   ]
  },
  {
   "cell_type": "code",
   "execution_count": 23,
   "id": "a21c5e39-d6b2-45fe-b852-4dc038d438d7",
   "metadata": {},
   "outputs": [
    {
     "data": {
      "image/png": "[encoded data removed]",
      "text/plain": [
       "<Figure size 640x480 with 1 Axes>"
      ]
     },
     "metadata": {},
     "output_type": "display_data"
    }
   ],
   "source": [
    "# plotting a bar chart for YEAR and it's count\n",
    "\n",
    "ax = sns.countplot(x = 'YEAR',data = df)\n",
    "\n",
    "for bars in ax.containers:\n",
    "    ax.bar_label(bars)"
   ]
  },
  {
   "cell_type": "code",
   "execution_count": 24,
   "id": "f755e8fe-70c8-409e-b011-7b8ea56158ac",
   "metadata": {},
   "outputs": [
    {
     "data": {
      "text/plain": [
       "<Axes: xlabel='YEAR', ylabel='RETAIL SALES'>"
      ]
     },
     "execution_count": 24,
     "metadata": {},
     "output_type": "execute_result"
    },
    {
     "data": {
      "image/png": "[encoded data removed]",
      "text/plain": [
       "<Figure size 640x480 with 1 Axes>"
      ]
     },
     "metadata": {},
     "output_type": "display_data"
    }
   ],
   "source": [
    "# plotting a bar chart for YEAR vs RETAIL SALES\n",
    "\n",
    "sales_gen = df.groupby(['YEAR'], as_index=False)['RETAIL SALES'].sum().sort_values(by='RETAIL SALES', ascending=False)\n",
    "\n",
    "sns.barplot(x = 'YEAR',y= 'RETAIL SALES' ,data = sales_gen)"
   ]
  },
  {
   "cell_type": "code",
   "execution_count": 25,
   "id": "c8e3f241-2606-4e89-a2be-acfd21764a3a",
   "metadata": {},
   "outputs": [
    {
     "data": {
      "text/plain": [
       "<Axes: xlabel='MONTH', ylabel='RETAIL SALES'>"
      ]
     },
     "execution_count": 25,
     "metadata": {},
     "output_type": "execute_result"
    },
    {
     "data": {
      "image/png": "[encoded data removed]",
      "text/plain": [
       "<Figure size 640x480 with 1 Axes>"
      ]
     },
     "metadata": {},
     "output_type": "display_data"
    }
   ],
   "source": [
    "# plotting a bar chart for YEAR vs RETAIL SALES\n",
    "\n",
    "sales_gen = df.groupby(['MONTH'], as_index=False)['RETAIL SALES'].sum().sort_values(by='RETAIL SALES', ascending=False)\n",
    "\n",
    "sns.barplot(x = 'MONTH',y= 'RETAIL SALES' ,data = sales_gen)"
   ]
  },
  {
   "cell_type": "code",
   "execution_count": 26,
   "id": "7ccf6f5c-59c4-4ac0-8f32-d25834398c6e",
   "metadata": {},
   "outputs": [
    {
     "data": {
      "text/plain": [
       "<Axes: xlabel='YEAR', ylabel='WAREHOUSE SALES'>"
      ]
     },
     "execution_count": 26,
     "metadata": {},
     "output_type": "execute_result"
    },
    {
     "data": {
      "image/png": "[encoded data removed]",
      "text/plain": [
       "<Figure size 640x480 with 1 Axes>"
      ]
     },
     "metadata": {},
     "output_type": "display_data"
    }
   ],
   "source": [
    "# plotting a bar chart for YEAR vs RETAIL SALES\n",
    "\n",
    "sales_gen = df.groupby(['YEAR'], as_index=False)['WAREHOUSE SALES'].sum().sort_values(by='WAREHOUSE SALES', ascending=False)\n",
    "\n",
    "sns.barplot(x = 'YEAR',y= 'WAREHOUSE SALES' ,data = sales_gen)"
   ]
  },
  {
   "cell_type": "code",
   "execution_count": null,
   "id": "780c0182-5a5b-4e97-bbe2-d2515e221a98",
   "metadata": {},
   "outputs": [],
   "source": []
  }
 ],
 "metadata": {
  "kernelspec": {
   "display_name": "Python 3 (ipykernel)",
   "language": "python",
   "name": "python3"
  },
  "language_info": {
   "codemirror_mode": {
    "name": "ipython",
    "version": 3
   },
   "file_extension": ".py",
   "mimetype": "text/x-python",
   "name": "python",
   "nbconvert_exporter": "python",
   "pygments_lexer": "ipython3",
   "version": "3.13.2"
  }
 },
 "nbformat": 4,
 "nbformat_minor": 5
}
